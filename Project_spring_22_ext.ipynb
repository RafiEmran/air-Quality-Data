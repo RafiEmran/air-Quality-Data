{
 "cells": [
  {
   "cell_type": "code",
   "execution_count": 4,
   "id": "dac5527f",
   "metadata": {},
   "outputs": [],
   "source": [
    "import pandas as pd\n",
    "import numpy as np\n",
    "from sklearn import linear_model\n",
    "from sklearn.model_selection import train_test_split"
   ]
  },
  {
   "cell_type": "code",
   "execution_count": 5,
   "id": "c0f14b42",
   "metadata": {},
   "outputs": [],
   "source": [
    "df=pd.read_csv(r'airQualityData.csv')\n",
    "ss=df.groupby('cityname')\n",
    "dfx=df[['cityname','SO2','PM10','CO','O3_8']]\n",
    "dfy=df[['PM25']]"
   ]
  },
  {
   "cell_type": "code",
   "execution_count": 8,
   "id": "b6279c36",
   "metadata": {},
   "outputs": [
    {
     "data": {
      "text/plain": [
       "40132    False\n",
       "24163     True\n",
       "29142     True\n",
       "25730     True\n",
       "14659     True\n",
       "         ...  \n",
       "21243     True\n",
       "45891    False\n",
       "42613     True\n",
       "43567     True\n",
       "68268     True\n",
       "Name: PM25, Length: 28459, dtype: bool"
      ]
     },
     "execution_count": 8,
     "metadata": {},
     "output_type": "execute_result"
    }
   ],
   "source": [
    "dfx = pd.get_dummies(data=dfx, drop_first=True)\n",
    "dfy2 = df[\"PM25\"] < 40\n",
    "dfy2\n",
    "xc_train,xc_test,yc_train,yc_test=train_test_split(dfx,dfy2,test_size=0.6,random_state=0)\n",
    "yc_train"
   ]
  },
  {
   "cell_type": "code",
   "execution_count": 9,
   "id": "abbc6613",
   "metadata": {},
   "outputs": [
    {
     "data": {
      "text/plain": [
       "RandomForestClassifier(random_state=0)"
      ]
     },
     "execution_count": 9,
     "metadata": {},
     "output_type": "execute_result"
    }
   ],
   "source": [
    "from sklearn.ensemble import RandomForestClassifier\n",
    "mlrfc = RandomForestClassifier(n_estimators=100, random_state=0)\n",
    "mlrfc.fit(xc_train, yc_train)"
   ]
  },
  {
   "cell_type": "code",
   "execution_count": 11,
   "id": "05f25040",
   "metadata": {},
   "outputs": [
    {
     "data": {
      "text/plain": [
       "array([ True,  True,  True, ...,  True,  True,  True])"
      ]
     },
     "execution_count": 11,
     "metadata": {},
     "output_type": "execute_result"
    }
   ],
   "source": [
    "yrfc_pred=mlrfc.predict(xc_test)\n",
    "yrfc_pred"
   ]
  },
  {
   "cell_type": "code",
   "execution_count": 12,
   "id": "948dd246",
   "metadata": {},
   "outputs": [
    {
     "data": {
      "text/plain": [
       "GradientBoostingClassifier(n_estimators=20, random_state=0)"
      ]
     },
     "execution_count": 12,
     "metadata": {},
     "output_type": "execute_result"
    }
   ],
   "source": [
    "from sklearn.ensemble import GradientBoostingClassifier\n",
    "mlg=GradientBoostingClassifier(n_estimators=20, learning_rate=0.1, random_state=0)\n",
    "mlg.fit(xc_train,yc_train)"
   ]
  },
  {
   "cell_type": "code",
   "execution_count": 13,
   "id": "23a3fdaa",
   "metadata": {},
   "outputs": [
    {
     "data": {
      "text/plain": [
       "array([ True,  True,  True, ..., False,  True,  True])"
      ]
     },
     "execution_count": 13,
     "metadata": {},
     "output_type": "execute_result"
    }
   ],
   "source": [
    "ygrad_pred = mlg.predict(xc_test)\n",
    "ygrad_pred"
   ]
  },
  {
   "cell_type": "code",
   "execution_count": 17,
   "id": "fa99ff91",
   "metadata": {},
   "outputs": [
    {
     "data": {
      "text/plain": [
       "MLPClassifier(hidden_layer_sizes=(10, 8), random_state=0)"
      ]
     },
     "execution_count": 17,
     "metadata": {},
     "output_type": "execute_result"
    }
   ],
   "source": [
    "from sklearn.neural_network import MLPClassifier\n",
    "bra = MLPClassifier(hidden_layer_sizes=(10,8), random_state=0)\n",
    "bra.fit(xc_train,yc_train)"
   ]
  },
  {
   "cell_type": "code",
   "execution_count": 18,
   "id": "df75fe85",
   "metadata": {},
   "outputs": [
    {
     "data": {
      "text/plain": [
       "array([ True,  True,  True, ..., False,  True,  True])"
      ]
     },
     "execution_count": 18,
     "metadata": {},
     "output_type": "execute_result"
    }
   ],
   "source": [
    "ynn_pred=bra.predict(xc_test)\n",
    "ynn_pred"
   ]
  },
  {
   "cell_type": "code",
   "execution_count": 30,
   "id": "a5a5f6ca",
   "metadata": {},
   "outputs": [
    {
     "data": {
      "image/png": "[encoded data removed]",
      "text/plain": [
       "<Figure size 432x288 with 1 Axes>"
      ]
     },
     "metadata": {
      "needs_background": "light"
     },
     "output_type": "display_data"
    }
   ],
   "source": [
    "from sklearn.metrics import RocCurveDisplay\n",
    "import matplotlib.pyplot as plt\n",
    "from sklearn.metrics import roc_curve, auc\n",
    "y_pred_prob1 = mlrfc.predict_proba(xc_test)[:,1]\n",
    "fpr1 , tpr1, thresholds1 = roc_curve(yc_test, y_pred_prob1)\n",
    "aucrf=auc(fpr1 , tpr1)\n",
    "y_pred_prob2 = mlg.predict_proba(xc_test)[:,1]\n",
    "fpr2 , tpr2, thresholds2 = roc_curve(yc_test, y_pred_prob2)\n",
    "aucgb=auc(fpr2 , tpr2)\n",
    "\n",
    "y_pred_prob3 = bra.predict_proba(xc_test)[:,1]\n",
    "fpr3 , tpr3, thresholds3 = roc_curve(yc_test, y_pred_prob3)\n",
    "aucnn=auc(fpr3 , tpr3)\n",
    "\n",
    "plt.plot([0,1],[0,1], 'k--')\n",
    "plt.plot(fpr1, tpr1, label= \"RF(auc = %0.3f)\" %aucrf)\n",
    "plt.plot(fpr2, tpr2, label= \"GB(auc = %0.3f)\" %aucgb)\n",
    "plt.plot(fpr3, tpr3, label= \"NN(auc = %0.3f)\" %aucnn)\n",
    "plt.legend()\n",
    "plt.xlabel(\"FPR\")\n",
    "plt.ylabel(\"TPR\")\n",
    "plt.title('Receiver Operating Characteristic')\n",
    "plt.show()"
   ]
  },
  {
   "cell_type": "code",
   "execution_count": 34,
   "id": "cd2cfdf1",
   "metadata": {},
   "outputs": [
    {
     "name": "stdout",
     "output_type": "stream",
     "text": [
      "          classifier     score\n",
      "0      Random Forest  0.875448\n",
      "1  Gradient Boosting  0.856802\n",
      "2     Neural Network  0.882991\n"
     ]
    },
    {
     "data": {
      "image/png": "[encoded data removed]",
      "text/plain": [
       "<Figure size 432x288 with 1 Axes>"
      ]
     },
     "metadata": {
      "needs_background": "light"
     },
     "output_type": "display_data"
    }
   ],
   "source": [
    "from sklearn.metrics import accuracy_score\n",
    "rfs = accuracy_score(yc_test, yrfc_pred)\n",
    "gbs = accuracy_score(yc_test, ygrad_pred)\n",
    "nns = accuracy_score(yc_test, ynn_pred)\n",
    "scores = [rfs, gbs, nns]\n",
    "labels = [\"Random Forest\", \"Gradient Boosting\", \"Neural Network\"]\n",
    "score_df = pd.DataFrame({\"classifier\":labels, \"score\": scores})\n",
    "plt.bar(np.arange(len(labels)), scores, tick_label=labels)\n",
    "plt.ylabel('Score')\n",
    "plt.title('Summary of Results')\n",
    "print(score_df)\n",
    "plt.show()"
   ]
  },
  {
   "cell_type": "code",
   "execution_count": null,
   "id": "f894a6ea",
   "metadata": {},
   "outputs": [],
   "source": []
  }
 ],
 "metadata": {
  "kernelspec": {
   "display_name": "Python 3 (ipykernel)",
   "language": "python",
   "name": "python3"
  },
  "language_info": {
   "codemirror_mode": {
    "name": "ipython",
    "version": 3
   },
   "file_extension": ".py",
   "mimetype": "text/x-python",
   "name": "python",
   "nbconvert_exporter": "python",
   "pygments_lexer": "ipython3",
   "version": "3.9.7"
  }
 },
 "nbformat": 4,
 "nbformat_minor": 5
}
